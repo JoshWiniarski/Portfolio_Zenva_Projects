{
 "cells": [
  {
   "attachments": {},
   "cell_type": "markdown",
   "metadata": {},
   "source": [
    "# Tensorflow Training\n",
    "### produced through training from Zenva\n",
    "This is a simple linear regression model that draws an average into to a scatterplot."
   ]
  },
  {
   "attachments": {},
   "cell_type": "markdown",
   "metadata": {},
   "source": [
    "First thing's first. Let's make sure we have everything installed. We need Tensorflow, matplotlib, and numpy. These can be installed through the powershell terminal using the 'pip install' command."
   ]
  },
  {
   "cell_type": "code",
   "execution_count": null,
   "metadata": {},
   "outputs": [],
   "source": [
    "#pip install tensorflow\n",
    "#pip install matplotlib\n",
    "#This code is for Powershell, not python."
   ]
  },
  {
   "attachments": {},
   "cell_type": "markdown",
   "metadata": {},
   "source": [
    "To check if Tensorflow is up to date, you can run the following code in the terminal:"
   ]
  },
  {
   "cell_type": "code",
   "execution_count": null,
   "metadata": {},
   "outputs": [],
   "source": [
    "#pip install --upgrade tensorflow\n",
    "#This code is for powershell, not python."
   ]
  },
  {
   "attachments": {},
   "cell_type": "markdown",
   "metadata": {},
   "source": [
    "Now let's import all of the libraries we need:"
   ]
  },
  {
   "cell_type": "code",
   "execution_count": 5,
   "metadata": {},
   "outputs": [],
   "source": [
    "import tensorflow as tf\n",
    "import matplotlib.pyplot as plt\n",
    "import numpy as np"
   ]
  },
  {
   "attachments": {},
   "cell_type": "markdown",
   "metadata": {},
   "source": [
    "Now let's set some variables and generate random points to be plotted."
   ]
  },
  {
   "cell_type": "code",
   "execution_count": 10,
   "metadata": {},
   "outputs": [],
   "source": [
    "m = 2\n",
    "b = 0.5\n",
    "x = np.linspace(0,4,100)\n",
    "y = m*x+b+np.random.randn(*x.shape) +0.25"
   ]
  },
  {
   "attachments": {},
   "cell_type": "markdown",
   "metadata": {},
   "source": [
    "Let's plot this just to see how it lays out:"
   ]
  },
  {
   "cell_type": "code",
   "execution_count": 11,
   "metadata": {},
   "outputs": [
    {
     "data": {
      "text/plain": [
       "<matplotlib.collections.PathCollection at 0x1a6ba55bf50>"
      ]
     },
     "execution_count": 11,
     "metadata": {},
     "output_type": "execute_result"
    },
    {
     "data": {
      "image/png": "[encoded data removed]",
      "text/plain": [
       "<Figure size 640x480 with 1 Axes>"
      ]
     },
     "metadata": {},
     "output_type": "display_data"
    }
   ],
   "source": [
    "plt.scatter(x,y)"
   ]
  },
  {
   "attachments": {},
   "cell_type": "markdown",
   "metadata": {},
   "source": [
    "Now we will create a Model class:"
   ]
  },
  {
   "cell_type": "code",
   "execution_count": 23,
   "metadata": {},
   "outputs": [],
   "source": [
    "class Model:\n",
    "    def __init__(self):\n",
    "        self.weight = tf.Variable(10.0)\n",
    "        self.bias = tf.Variable(10.0)\n",
    "    def __call__(self, x):\n",
    "        return self.weight * x + self.bias"
   ]
  },
  {
   "attachments": {},
   "cell_type": "markdown",
   "metadata": {},
   "source": [
    "Create a definition to calculate the loss:"
   ]
  },
  {
   "cell_type": "code",
   "execution_count": 24,
   "metadata": {},
   "outputs": [],
   "source": [
    "def calculate_loss(y_actual, y_output):\n",
    "    return tf.reduce_mean(tf.square(y_actual - y_output))\n",
    "    #this essentially takes the square root of the average"
   ]
  },
  {
   "attachments": {},
   "cell_type": "markdown",
   "metadata": {},
   "source": [
    "Now create a training function:"
   ]
  },
  {
   "cell_type": "code",
   "execution_count": 25,
   "metadata": {},
   "outputs": [],
   "source": [
    "def train(model, x, y, learning_rate):\n",
    "    with tf.GradientTape() as gt:\n",
    "        y_output = model(x)\n",
    "        loss = calculate_loss(y, y_output)\n",
    "    new_weight, new_bias = gt.gradient(loss, [model.weight, model.bias])\n",
    "    model.weight.assign_sub(new_weight * learning_rate)\n",
    "    model.bias.assign_sub(new_bias * learning_rate)"
   ]
  },
  {
   "attachments": {},
   "cell_type": "markdown",
   "metadata": {},
   "source": [
    "Now we can create a for loop that will run {epochs} number of times and print out the loss at each epoch. Lower loss means the model is more accurate."
   ]
  },
  {
   "cell_type": "code",
   "execution_count": 26,
   "metadata": {},
   "outputs": [
    {
     "name": "stdout",
     "output_type": "stream",
     "text": [
      "Epoch: 0, loss: 716.306884765625\n",
      "Epoch: 1, loss: 508.85418701171875\n",
      "Epoch: 2, loss: 361.7558288574219\n",
      "Epoch: 3, loss: 257.42694091796875\n",
      "Epoch: 4, loss: 183.40965270996094\n",
      "Epoch: 5, loss: 130.8774871826172\n",
      "Epoch: 6, loss: 93.57679748535156\n",
      "Epoch: 7, loss: 67.07635498046875\n",
      "Epoch: 8, loss: 48.236053466796875\n",
      "Epoch: 9, loss: 34.8304328918457\n",
      "Epoch: 10, loss: 25.282020568847656\n",
      "Epoch: 11, loss: 18.472501754760742\n",
      "Epoch: 12, loss: 13.60890007019043\n",
      "Epoch: 13, loss: 10.1287841796875\n",
      "Epoch: 14, loss: 7.633119583129883\n",
      "Epoch: 15, loss: 5.838682651519775\n",
      "Epoch: 16, loss: 4.544363021850586\n",
      "Epoch: 17, loss: 3.6072750091552734\n",
      "Epoch: 18, loss: 2.9258241653442383\n",
      "Epoch: 19, loss: 2.4277186393737793\n",
      "Epoch: 20, loss: 2.0614593029022217\n",
      "Epoch: 21, loss: 1.7903155088424683\n",
      "Epoch: 22, loss: 1.588049054145813\n",
      "Epoch: 23, loss: 1.4358807802200317\n",
      "Epoch: 24, loss: 1.3203415870666504\n",
      "Epoch: 25, loss: 1.2317439317703247\n",
      "Epoch: 26, loss: 1.1630979776382446\n",
      "Epoch: 27, loss: 1.1093411445617676\n",
      "Epoch: 28, loss: 1.0667901039123535\n",
      "Epoch: 29, loss: 1.0327517986297607\n",
      "Epoch: 30, loss: 1.0052436590194702\n",
      "Epoch: 31, loss: 0.982798159122467\n",
      "Epoch: 32, loss: 0.9643188714981079\n",
      "Epoch: 33, loss: 0.9489806890487671\n",
      "Epoch: 34, loss: 0.9361566305160522\n",
      "Epoch: 35, loss: 0.9253649711608887\n",
      "Epoch: 36, loss: 0.916232705116272\n",
      "Epoch: 37, loss: 0.9084670543670654\n",
      "Epoch: 38, loss: 0.9018359184265137\n",
      "Epoch: 39, loss: 0.8961539268493652\n",
      "Epoch: 40, loss: 0.8912708759307861\n",
      "Epoch: 41, loss: 0.8870638012886047\n",
      "Epoch: 42, loss: 0.8834318518638611\n",
      "Epoch: 43, loss: 0.8802912831306458\n",
      "Epoch: 44, loss: 0.8775714039802551\n",
      "Epoch: 45, loss: 0.8752134442329407\n",
      "Epoch: 46, loss: 0.873167097568512\n",
      "Epoch: 47, loss: 0.8713901042938232\n",
      "Epoch: 48, loss: 0.8698457479476929\n",
      "Epoch: 49, loss: 0.8685029745101929\n",
      "Epoch: 50, loss: 0.8673349022865295\n",
      "Epoch: 51, loss: 0.8663186430931091\n",
      "Epoch: 52, loss: 0.8654340505599976\n",
      "Epoch: 53, loss: 0.86466383934021\n",
      "Epoch: 54, loss: 0.8639932870864868\n",
      "Epoch: 55, loss: 0.8634092807769775\n",
      "Epoch: 56, loss: 0.8629006743431091\n",
      "Epoch: 57, loss: 0.8624575138092041\n",
      "Epoch: 58, loss: 0.8620715141296387\n",
      "Epoch: 59, loss: 0.8617352247238159\n",
      "Epoch: 60, loss: 0.8614422678947449\n",
      "Epoch: 61, loss: 0.8611869215965271\n",
      "Epoch: 62, loss: 0.8609645366668701\n",
      "Epoch: 63, loss: 0.8607707023620605\n",
      "Epoch: 64, loss: 0.8606017231941223\n",
      "Epoch: 65, loss: 0.8604547381401062\n",
      "Epoch: 66, loss: 0.8603262901306152\n",
      "Epoch: 67, loss: 0.8602145910263062\n",
      "Epoch: 68, loss: 0.8601171970367432\n",
      "Epoch: 69, loss: 0.860032320022583\n",
      "Epoch: 70, loss: 0.8599583506584167\n",
      "Epoch: 71, loss: 0.8598939776420593\n",
      "Epoch: 72, loss: 0.8598377704620361\n",
      "Epoch: 73, loss: 0.8597888350486755\n",
      "Epoch: 74, loss: 0.8597461581230164\n",
      "Epoch: 75, loss: 0.8597090244293213\n",
      "Epoch: 76, loss: 0.8596766591072083\n",
      "Epoch: 77, loss: 0.8596484661102295\n",
      "Epoch: 78, loss: 0.8596237897872925\n",
      "Epoch: 79, loss: 0.8596023321151733\n",
      "Epoch: 80, loss: 0.8595836758613586\n",
      "Epoch: 81, loss: 0.859567403793335\n",
      "Epoch: 82, loss: 0.8595531582832336\n",
      "Epoch: 83, loss: 0.8595408797264099\n",
      "Epoch: 84, loss: 0.8595300316810608\n",
      "Epoch: 85, loss: 0.8595207333564758\n",
      "Epoch: 86, loss: 0.8595125079154968\n",
      "Epoch: 87, loss: 0.859505295753479\n",
      "Epoch: 88, loss: 0.8594991564750671\n",
      "Epoch: 89, loss: 0.8594937324523926\n",
      "Epoch: 90, loss: 0.8594889640808105\n",
      "Epoch: 91, loss: 0.859484851360321\n",
      "Epoch: 92, loss: 0.8594812154769897\n",
      "Epoch: 93, loss: 0.8594781756401062\n",
      "Epoch: 94, loss: 0.8594753742218018\n",
      "Epoch: 95, loss: 0.8594731092453003\n",
      "Epoch: 96, loss: 0.8594709634780884\n",
      "Epoch: 97, loss: 0.8594691753387451\n",
      "Epoch: 98, loss: 0.859467625617981\n",
      "Epoch: 99, loss: 0.8594662547111511\n"
     ]
    }
   ],
   "source": [
    "model = Model()\n",
    "epochs = 100\n",
    "learning_rate = 0.15\n",
    "for epoch in range(epochs):\n",
    "    y_output = model(x)\n",
    "    loss = calculate_loss(y, y_output)\n",
    "    print(f\"Epoch: {epoch}, loss: {loss.numpy()}\")\n",
    "    train(model, x, y, learning_rate)"
   ]
  },
  {
   "attachments": {},
   "cell_type": "markdown",
   "metadata": {},
   "source": [
    "Here we plot out the weight and bias:"
   ]
  },
  {
   "cell_type": "code",
   "execution_count": 27,
   "metadata": {},
   "outputs": [
    {
     "name": "stdout",
     "output_type": "stream",
     "text": [
      "2.1196456\n",
      "0.6418109\n"
     ]
    }
   ],
   "source": [
    "print(model.weight.numpy())\n",
    "print(model.bias.numpy())"
   ]
  },
  {
   "attachments": {},
   "cell_type": "markdown",
   "metadata": {},
   "source": [
    "Finally we can generate the average on top of the original scatterplot."
   ]
  },
  {
   "cell_type": "code",
   "execution_count": 29,
   "metadata": {},
   "outputs": [
    {
     "data": {
      "text/plain": [
       "<matplotlib.collections.PathCollection at 0x1a6b83ef2d0>"
      ]
     },
     "execution_count": 29,
     "metadata": {},
     "output_type": "execute_result"
    },
    {
     "data": {
      "image/png": "[encoded data removed]",
      "text/plain": [
       "<Figure size 640x480 with 1 Axes>"
      ]
     },
     "metadata": {},
     "output_type": "display_data"
    }
   ],
   "source": [
    "new_x = np.linspace(0,4,50)\n",
    "new_y = model.weight.numpy()* new_x + model.bias.numpy()\n",
    "plt.scatter(x,y)\n",
    "plt.scatter(new_x,new_y)"
   ]
  },
  {
   "attachments": {},
   "cell_type": "markdown",
   "metadata": {},
   "source": [
    "# End!\n",
    "### Thanks for checking this out.\n",
    "Josh Winiarski"
   ]
  }
 ],
 "metadata": {
  "kernelspec": {
   "display_name": ".venv",
   "language": "python",
   "name": "python3"
  },
  "language_info": {
   "codemirror_mode": {
    "name": "ipython",
    "version": 3
   },
   "file_extension": ".py",
   "mimetype": "text/x-python",
   "name": "python",
   "nbconvert_exporter": "python",
   "pygments_lexer": "ipython3",
   "version": "3.11.2"
  },
  "orig_nbformat": 4
 },
 "nbformat": 4,
 "nbformat_minor": 2
}
