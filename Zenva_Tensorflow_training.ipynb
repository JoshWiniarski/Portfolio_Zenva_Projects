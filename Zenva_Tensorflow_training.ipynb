{
 "cells": [
  {
   "attachments": {},
   "cell_type": "markdown",
   "metadata": {},
   "source": [
    "# Tensorflow Training\n",
    "### produced through training from Zenva\n",
    "This is a simple linear regression model that draws an average into to a scatterplot."
   ]
  },
  {
   "attachments": {},
   "cell_type": "markdown",
   "metadata": {},
   "source": [
    "First thing's first. Let's make sure we have everything installed. We need Tensorflow, matplotlib, and numpy. These can be installed through the powershell terminal using the 'pip install' command."
   ]
  },
  {
   "cell_type": "code",
   "execution_count": null,
   "metadata": {},
   "outputs": [],
   "source": [
    "#pip install tensorflow\n",
    "#pip install matplotlib\n",
    "#This code is for Powershell, not python."
   ]
  },
  {
   "attachments": {},
   "cell_type": "markdown",
   "metadata": {},
   "source": [
    "To check if Tensorflow is up to date, you can run the following code in the terminal:"
   ]
  },
  {
   "cell_type": "code",
   "execution_count": null,
   "metadata": {},
   "outputs": [],
   "source": [
    "#pip install --upgrade tensorflow\n",
    "#This code is for powershell, not python."
   ]
  },
  {
   "attachments": {},
   "cell_type": "markdown",
   "metadata": {},
   "source": [
    "Now let's import all of the libraries we need:"
   ]
  },
  {
   "cell_type": "code",
   "execution_count": 1,
   "metadata": {},
   "outputs": [],
   "source": [
    "import tensorflow as tf\n",
    "import matplotlib.pyplot as plt\n",
    "import numpy as np"
   ]
  },
  {
   "attachments": {},
   "cell_type": "markdown",
   "metadata": {},
   "source": [
    "Now let's set some variables and generate random points to be plotted."
   ]
  },
  {
   "cell_type": "code",
   "execution_count": 2,
   "metadata": {},
   "outputs": [],
   "source": [
    "m = 2\n",
    "b = 0.5\n",
    "x = np.linspace(0,4,100)\n",
    "y = m*x+b+np.random.randn(*x.shape) +0.25"
   ]
  },
  {
   "attachments": {},
   "cell_type": "markdown",
   "metadata": {},
   "source": [
    "Let's plot this just to see how it lays out:"
   ]
  },
  {
   "cell_type": "code",
   "execution_count": 3,
   "metadata": {},
   "outputs": [
    {
     "data": {
      "text/plain": [
       "<matplotlib.collections.PathCollection at 0x25f0c1ca590>"
      ]
     },
     "execution_count": 3,
     "metadata": {},
     "output_type": "execute_result"
    },
    {
     "data": {
      "image/png": "[encoded data removed]",
      "text/plain": [
       "<Figure size 640x480 with 1 Axes>"
      ]
     },
     "metadata": {},
     "output_type": "display_data"
    }
   ],
   "source": [
    "plt.scatter(x,y)"
   ]
  },
  {
   "attachments": {},
   "cell_type": "markdown",
   "metadata": {},
   "source": [
    "Now we will create a Model class:"
   ]
  },
  {
   "cell_type": "code",
   "execution_count": 4,
   "metadata": {},
   "outputs": [],
   "source": [
    "class Model:\n",
    "    def __init__(self):\n",
    "        self.weight = tf.Variable(10.0)\n",
    "        self.bias = tf.Variable(10.0)\n",
    "    def __call__(self, x):\n",
    "        return self.weight * x + self.bias"
   ]
  },
  {
   "attachments": {},
   "cell_type": "markdown",
   "metadata": {},
   "source": [
    "Create a definition to calculate the loss:"
   ]
  },
  {
   "cell_type": "code",
   "execution_count": 5,
   "metadata": {},
   "outputs": [],
   "source": [
    "def calculate_loss(y_actual, y_output):\n",
    "    return tf.reduce_mean(tf.square(y_actual - y_output))\n",
    "    #this essentially takes the square root of the average"
   ]
  },
  {
   "attachments": {},
   "cell_type": "markdown",
   "metadata": {},
   "source": [
    "Now create a training function:"
   ]
  },
  {
   "cell_type": "code",
   "execution_count": 6,
   "metadata": {},
   "outputs": [],
   "source": [
    "def train(model, x, y, learning_rate):\n",
    "    with tf.GradientTape() as gt:\n",
    "        y_output = model(x)\n",
    "        loss = calculate_loss(y, y_output)\n",
    "    new_weight, new_bias = gt.gradient(loss, [model.weight, model.bias])\n",
    "    model.weight.assign_sub(new_weight * learning_rate)\n",
    "    model.bias.assign_sub(new_bias * learning_rate)"
   ]
  },
  {
   "attachments": {},
   "cell_type": "markdown",
   "metadata": {},
   "source": [
    "Now we can create a for loop that will run {epochs} number of times and print out the loss at each epoch. Lower loss means the model is more accurate."
   ]
  },
  {
   "cell_type": "code",
   "execution_count": 7,
   "metadata": {},
   "outputs": [
    {
     "name": "stdout",
     "output_type": "stream",
     "text": [
      "Epoch: 0, loss: 718.796630859375\n",
      "Epoch: 1, loss: 510.6009521484375\n",
      "Epoch: 2, loss: 362.9829406738281\n",
      "Epoch: 3, loss: 258.2913513183594\n",
      "Epoch: 4, loss: 184.02191162109375\n",
      "Epoch: 5, loss: 131.31529235839844\n",
      "Epoch: 6, loss: 93.8947525024414\n",
      "Epoch: 7, loss: 67.31262969970703\n",
      "Epoch: 8, loss: 48.4172477722168\n",
      "Epoch: 9, loss: 34.97502517700195\n",
      "Epoch: 10, loss: 25.402795791625977\n",
      "Epoch: 11, loss: 18.578258514404297\n",
      "Epoch: 12, loss: 13.705617904663086\n",
      "Epoch: 13, loss: 10.220495223999023\n",
      "Epoch: 14, loss: 7.722496509552002\n",
      "Epoch: 15, loss: 5.927465915679932\n",
      "Epoch: 16, loss: 4.6336517333984375\n",
      "Epoch: 17, loss: 3.6977264881134033\n",
      "Epoch: 18, loss: 3.017801523208618\n",
      "Epoch: 19, loss: 2.521388530731201\n",
      "Epoch: 20, loss: 2.1568603515625\n",
      "Epoch: 21, loss: 1.8874070644378662\n",
      "Epoch: 22, loss: 1.6867423057556152\n",
      "Epoch: 23, loss: 1.536061406135559\n",
      "Epoch: 24, loss: 1.4218829870224\n",
      "Epoch: 25, loss: 1.3345167636871338\n",
      "Epoch: 26, loss: 1.2669765949249268\n",
      "Epoch: 27, loss: 1.214206337928772\n",
      "Epoch: 28, loss: 1.1725314855575562\n",
      "Epoch: 29, loss: 1.1392676830291748\n",
      "Epoch: 30, loss: 1.112443208694458\n",
      "Epoch: 31, loss: 1.0905990600585938\n",
      "Epoch: 32, loss: 1.072648048400879\n",
      "Epoch: 33, loss: 1.0577731132507324\n",
      "Epoch: 34, loss: 1.0453546047210693\n",
      "Epoch: 35, loss: 1.0349180698394775\n",
      "Epoch: 36, loss: 1.026096224784851\n",
      "Epoch: 37, loss: 1.018601655960083\n",
      "Epoch: 38, loss: 1.0122076272964478\n",
      "Epoch: 39, loss: 1.00673246383667\n",
      "Epoch: 40, loss: 1.0020297765731812\n",
      "Epoch: 41, loss: 0.9979802966117859\n",
      "Epoch: 42, loss: 0.9944857954978943\n",
      "Epoch: 43, loss: 0.9914648532867432\n",
      "Epoch: 44, loss: 0.9888494610786438\n",
      "Epoch: 45, loss: 0.9865826368331909\n",
      "Epoch: 46, loss: 0.9846158027648926\n",
      "Epoch: 47, loss: 0.9829079508781433\n",
      "Epoch: 48, loss: 0.9814238548278809\n",
      "Epoch: 49, loss: 0.9801337718963623\n",
      "Epoch: 50, loss: 0.979011595249176\n",
      "Epoch: 51, loss: 0.9780352711677551\n",
      "Epoch: 52, loss: 0.9771854281425476\n",
      "Epoch: 53, loss: 0.9764457941055298\n",
      "Epoch: 54, loss: 0.9758014678955078\n",
      "Epoch: 55, loss: 0.9752406477928162\n",
      "Epoch: 56, loss: 0.9747520685195923\n",
      "Epoch: 57, loss: 0.974326491355896\n",
      "Epoch: 58, loss: 0.9739556312561035\n",
      "Epoch: 59, loss: 0.9736326336860657\n",
      "Epoch: 60, loss: 0.9733512997627258\n",
      "Epoch: 61, loss: 0.9731062054634094\n",
      "Epoch: 62, loss: 0.9728924632072449\n",
      "Epoch: 63, loss: 0.9727063179016113\n",
      "Epoch: 64, loss: 0.9725440740585327\n",
      "Epoch: 65, loss: 0.9724027514457703\n",
      "Epoch: 66, loss: 0.9722794890403748\n",
      "Epoch: 67, loss: 0.9721722602844238\n",
      "Epoch: 68, loss: 0.9720786809921265\n",
      "Epoch: 69, loss: 0.9719972014427185\n",
      "Epoch: 70, loss: 0.9719262719154358\n",
      "Epoch: 71, loss: 0.9718643426895142\n",
      "Epoch: 72, loss: 0.9718102812767029\n",
      "Epoch: 73, loss: 0.9717633128166199\n",
      "Epoch: 74, loss: 0.971722424030304\n",
      "Epoch: 75, loss: 0.9716867208480835\n",
      "Epoch: 76, loss: 0.9716556072235107\n",
      "Epoch: 77, loss: 0.9716284871101379\n",
      "Epoch: 78, loss: 0.9716047644615173\n",
      "Epoch: 79, loss: 0.9715842604637146\n",
      "Epoch: 80, loss: 0.9715662598609924\n",
      "Epoch: 81, loss: 0.9715505838394165\n",
      "Epoch: 82, loss: 0.9715371131896973\n",
      "Epoch: 83, loss: 0.9715251326560974\n",
      "Epoch: 84, loss: 0.971514880657196\n",
      "Epoch: 85, loss: 0.9715057611465454\n",
      "Epoch: 86, loss: 0.9714979529380798\n",
      "Epoch: 87, loss: 0.9714910984039307\n",
      "Epoch: 88, loss: 0.9714851379394531\n",
      "Epoch: 89, loss: 0.9714800119400024\n",
      "Epoch: 90, loss: 0.97147536277771\n",
      "Epoch: 91, loss: 0.9714714288711548\n",
      "Epoch: 92, loss: 0.9714679718017578\n",
      "Epoch: 93, loss: 0.9714649319648743\n",
      "Epoch: 94, loss: 0.9714624881744385\n",
      "Epoch: 95, loss: 0.9714601039886475\n",
      "Epoch: 96, loss: 0.9714581370353699\n",
      "Epoch: 97, loss: 0.9714562892913818\n",
      "Epoch: 98, loss: 0.9714548587799072\n",
      "Epoch: 99, loss: 0.9714535474777222\n"
     ]
    }
   ],
   "source": [
    "model = Model()\n",
    "epochs = 100\n",
    "learning_rate = 0.15\n",
    "for epoch in range(epochs):\n",
    "    y_output = model(x)\n",
    "    loss = calculate_loss(y, y_output)\n",
    "    print(f\"Epoch: {epoch}, loss: {loss.numpy()}\")\n",
    "    train(model, x, y, learning_rate)"
   ]
  },
  {
   "attachments": {},
   "cell_type": "markdown",
   "metadata": {},
   "source": [
    "Here we plot out the weight and bias:"
   ]
  },
  {
   "cell_type": "code",
   "execution_count": 8,
   "metadata": {},
   "outputs": [
    {
     "name": "stdout",
     "output_type": "stream",
     "text": [
      "2.0581834\n",
      "0.74373317\n"
     ]
    }
   ],
   "source": [
    "print(model.weight.numpy())\n",
    "print(model.bias.numpy())"
   ]
  },
  {
   "attachments": {},
   "cell_type": "markdown",
   "metadata": {},
   "source": [
    "Finally we can generate the average on top of the original scatterplot."
   ]
  },
  {
   "cell_type": "code",
   "execution_count": 9,
   "metadata": {},
   "outputs": [
    {
     "data": {
      "text/plain": [
       "<matplotlib.collections.PathCollection at 0x25f0c22ac50>"
      ]
     },
     "execution_count": 9,
     "metadata": {},
     "output_type": "execute_result"
    },
    {
     "data": {
      "image/png": "[encoded data removed]",
      "text/plain": [
       "<Figure size 640x480 with 1 Axes>"
      ]
     },
     "metadata": {},
     "output_type": "display_data"
    }
   ],
   "source": [
    "new_x = np.linspace(0,4,50)\n",
    "new_y = model.weight.numpy()* new_x + model.bias.numpy()\n",
    "plt.scatter(x,y)\n",
    "plt.scatter(new_x,new_y)"
   ]
  },
  {
   "attachments": {},
   "cell_type": "markdown",
   "metadata": {},
   "source": [
    "# End!\n",
    "### Thanks for checking this out.\n",
    "Josh Winiarski"
   ]
  }
 ],
 "metadata": {
  "kernelspec": {
   "display_name": ".venv",
   "language": "python",
   "name": "python3"
  },
  "language_info": {
   "codemirror_mode": {
    "name": "ipython",
    "version": 3
   },
   "file_extension": ".py",
   "mimetype": "text/x-python",
   "name": "python",
   "nbconvert_exporter": "python",
   "pygments_lexer": "ipython3",
   "version": "3.11.2"
  },
  "orig_nbformat": 4
 },
 "nbformat": 4,
 "nbformat_minor": 2
}
